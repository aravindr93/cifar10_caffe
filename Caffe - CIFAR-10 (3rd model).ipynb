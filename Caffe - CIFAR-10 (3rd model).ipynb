{
 "cells": [
  {
   "cell_type": "markdown",
   "metadata": {},
   "source": [
    "# Training CNN on CIFAR-10 (2nd)\n",
    "\n",
    "Here, I will change the network architecture to improve performance. Most of the steps are exactly the same as in the first file."
   ]
  },
  {
   "cell_type": "markdown",
   "metadata": {},
   "source": [
    "## 1) Setup + Data"
   ]
  },
  {
   "cell_type": "code",
   "execution_count": 1,
   "metadata": {
    "collapsed": false
   },
   "outputs": [
    {
     "name": "stderr",
     "output_type": "stream",
     "text": [
      "/home/aravind/anaconda3/envs/TheanoEnv/lib/python2.7/site-packages/matplotlib/font_manager.py:273: UserWarning: Matplotlib is building the font cache using fc-list. This may take a moment.\n",
      "  warnings.warn('Matplotlib is building the font cache using fc-list. This may take a moment.')\n"
     ]
    },
    {
     "name": "stdout",
     "output_type": "stream",
     "text": [
      "Cifar10 data already present...\n"
     ]
    }
   ],
   "source": [
    "import numpy as np\n",
    "import scipy as sp\n",
    "from pylab import *\n",
    "import matplotlib.pyplot as plt\n",
    "%matplotlib inline\n",
    "\n",
    "caffe_root = '/home/aravind/Programs/Caffe/caffe/'\n",
    "\n",
    "import sys\n",
    "sys.path.insert(0, caffe_root + 'python')\n",
    "import caffe\n",
    "\n",
    "# ----------------------------------\n",
    "\n",
    "import os\n",
    "os.chdir(caffe_root)\n",
    "# Download the data\n",
    "if os.path.isfile(caffe_root + 'examples/cifar10/cifar10_train_lmdb/data.mdb'):\n",
    "    print \"Cifar10 data already present...\"\n",
    "else:\n",
    "    !data/cifar10/get_cifar10.sh\n",
    "    # Prepare the data\n",
    "    !examples/cifar10/create_cifar10.sh"
   ]
  },
  {
   "cell_type": "markdown",
   "metadata": {},
   "source": [
    "## 2) Network Architecture\n",
    "\n",
    "This is the part that is different. Now, I'll use 3 convolutional layers and more channels for the first conv layer. I am keeping many of the hyperparameters the same as before."
   ]
  },
  {
   "cell_type": "code",
   "execution_count": 2,
   "metadata": {
    "collapsed": false
   },
   "outputs": [],
   "source": [
    "from caffe import layers as L, params as P\n",
    "\n",
    "def mynet3(lmdb, batch_size):\n",
    "    # 3 conv layers, each followed by a max_pool; followed by ReLU; and then 2 fully connected layers\n",
    "    n = caffe.NetSpec()\n",
    "    \n",
    "    # Data Layer ========================================\n",
    "    n.data, n.label = L.Data(batch_size=batch_size, backend=P.Data.LMDB, source=lmdb,\n",
    "                             transform_param=dict(mean_file=\"examples/cifar10/mean.binaryproto\"), ntop=2)\n",
    "    \n",
    "    # 1st set Conv ======================================\n",
    "    n.conv1 = L.Convolution(n.data, kernel_size=5, num_output=32, pad=2, stride=1, \n",
    "                            weight_filler=dict(type='gaussian', std=0.0001), \n",
    "                            bias_filler=dict(type='constant', value=0))\n",
    "    n.pool1 = L.Pooling(n.conv1, kernel_size=3, stride=2, pool=P.Pooling.MAX)\n",
    "    n.relu1 = L.ReLU(n.pool1, in_place=True)\n",
    "    \n",
    "    # 2nd set Conv ======================================\n",
    "    n.conv2 = L.Convolution(n.relu1, kernel_size=5, num_output=32, pad=2, stride=1,\n",
    "                            weight_filler=dict(type='gaussian', std=0.01),\n",
    "                            bias_filler=dict(type='constant', value=0))\n",
    "    n.relu2 = L.ReLU(n.conv2, in_place=True)\n",
    "    n.pool2 = L.Pooling(n.relu2, kernel_size=3, stride=2, pool=P.Pooling.AVE)\n",
    "    \n",
    "    # 3rd set Conv ======================================\n",
    "    n.conv3 = L.Convolution(n.pool2, kernel_size=5, num_output=64, pad=2, stride=1,\n",
    "                            weight_filler=dict(type='gaussian', std=0.01),\n",
    "                            bias_filler=dict(type='constant', value=0))\n",
    "    n.relu3 = L.ReLU(n.conv3, in_place=True)\n",
    "    n.pool3 = L.Pooling(n.relu3, kernel_size=3, stride=2, pool=P.Pooling.AVE)\n",
    "    \n",
    "    # 1st set FC ========================================\n",
    "    n.fc1 =   L.InnerProduct(n.pool3, num_output=64,\n",
    "                             weight_filler=dict(type='gaussian', std=0.1),\n",
    "                             bias_filler=dict(type='constant', value=0))\n",
    "    n.relu4 = L.ReLU(n.fc1, in_place=True)\n",
    "    \n",
    "    # 2nd set FC ========================================\n",
    "    n.fc2 =   L.InnerProduct(n.relu4, num_output=128,\n",
    "                             weight_filler=dict(type='gaussian', std=0.1),\n",
    "                             bias_filler=dict(type='constant', value=0))\n",
    "    n.relu5 = L.ReLU(n.fc2, in_place=True)\n",
    "    \n",
    "    # Score and output ==================================\n",
    "    n.score = L.InnerProduct(n.relu5, num_output=10,\n",
    "                             weight_filler=dict(type='gaussian', std=0.1),\n",
    "                             bias_filler=dict(type='constant', value=0))\n",
    "    n.loss =  L.SoftmaxWithLoss(n.score, n.label)\n",
    "    \n",
    "    return n.to_proto()"
   ]
  },
  {
   "cell_type": "markdown",
   "metadata": {},
   "source": [
    "Write network to appropriate files and connect the CNN files with the training data"
   ]
  },
  {
   "cell_type": "code",
   "execution_count": 3,
   "metadata": {
    "collapsed": false
   },
   "outputs": [],
   "source": [
    "train_net_path = 'examples/cifar10/mynet3/mynet3_auto_train.prototxt'\n",
    "test_net_path = 'examples/cifar10/mynet3/mynet3_auto_test.prototxt'\n",
    "solver_config_path = 'examples/cifar10/mynet3/mynet3_auto_solver.prototxt'\n",
    "# ----------------------\n",
    "with open(train_net_path, 'w') as f:\n",
    "    f.write(str(mynet3('examples/cifar10/cifar10_train_lmdb', 128)))    \n",
    "with open(test_net_path, 'w') as f:\n",
    "    f.write(str(mynet3('examples/cifar10/cifar10_test_lmdb', 100)))"
   ]
  },
  {
   "cell_type": "markdown",
   "metadata": {},
   "source": [
    "## 3) Solver options"
   ]
  },
  {
   "cell_type": "code",
   "execution_count": 4,
   "metadata": {
    "collapsed": true
   },
   "outputs": [],
   "source": [
    "caffe.set_mode_cpu()\n",
    "\n",
    "### define solver --------------------------------------------\n",
    "from caffe.proto import caffe_pb2\n",
    "s = caffe_pb2.SolverParameter()\n",
    "\n",
    "# s.random_seed = 0xCAFFE\n",
    "\n",
    "# Specify locations of the train and (maybe) test networks.\n",
    "s.train_net = train_net_path\n",
    "s.test_net.append(test_net_path)\n",
    "s.test_interval = 500  # Test after every 500 training iterations.\n",
    "s.test_iter.append(100) # Test on 100 batches each time we test.\n",
    "\n",
    "s.max_iter = 10000     # no. of times to update the net (training iterations)\n",
    "# ------------------------------------------------------------- \n",
    "\n",
    "s.type = \"Nesterov\"\n",
    "s.base_lr = 0.001  \n",
    "s.momentum = 0.9\n",
    "s.weight_decay = 0.004\n",
    "\n",
    "# Set `lr_policy` to define how the learning rate changes during training.\n",
    "s.lr_policy = \"fixed\"\n",
    "#s.lr_policy = 'inv'\n",
    "#s.gamma = 0.0001\n",
    "#s.power = 0.75\n",
    "\n",
    "# Display and snapshot after 'x' iterations\n",
    "s.display = 1000\n",
    "s.snapshot = 2500\n",
    "s.snapshot_prefix = 'examples/cifar10/mynet3/mynet3'\n",
    "# ---------------------------------------------------------------\n",
    "\n",
    "# set solver mode to CPU\n",
    "s.solver_mode = caffe_pb2.SolverParameter.CPU\n",
    "\n",
    "# Write the solver to a temporary file and return its filename.\n",
    "with open(solver_config_path, 'w') as f:\n",
    "    f.write(str(s))"
   ]
  },
  {
   "cell_type": "markdown",
   "metadata": {},
   "source": [
    "** Visualize to make sure everything is fine **"
   ]
  },
  {
   "cell_type": "code",
   "execution_count": 5,
   "metadata": {
    "collapsed": false
   },
   "outputs": [
    {
     "data": {
      "text/plain": [
       "[('data', (128, 3, 32, 32)),\n",
       " ('label', (128,)),\n",
       " ('conv1', (128, 32, 32, 32)),\n",
       " ('pool1', (128, 32, 16, 16)),\n",
       " ('conv2', (128, 32, 16, 16)),\n",
       " ('pool2', (128, 32, 8, 8)),\n",
       " ('conv3', (128, 64, 8, 8)),\n",
       " ('pool3', (128, 64, 4, 4)),\n",
       " ('fc1', (128, 64)),\n",
       " ('fc2', (128, 128)),\n",
       " ('score', (128, 10)),\n",
       " ('loss', ())]"
      ]
     },
     "execution_count": 5,
     "metadata": {},
     "output_type": "execute_result"
    }
   ],
   "source": [
    "solver = caffe.SGDSolver(solver_config_path)\n",
    "# each output is (batch size, feature dim, spatial dim)\n",
    "[(k, v.data.shape) for k, v in solver.net.blobs.items()]"
   ]
  },
  {
   "cell_type": "markdown",
   "metadata": {},
   "source": [
    "## 4) Train Net"
   ]
  },
  {
   "cell_type": "code",
   "execution_count": 6,
   "metadata": {
    "collapsed": true
   },
   "outputs": [],
   "source": [
    "### load the solver and create train and test nets\n",
    "solver = None  # ignore this workaround for lmdb data (can't instantiate two solvers on the same data)\n",
    "solver = caffe.get_solver(solver_config_path)\n",
    "\n",
    "### solve\n",
    "niter = 10000  # EDIT HERE increase to train for longer\n",
    "test_interval = 1000\n",
    "disp_interval = 250\n",
    "# losses will also be stored in the log\n",
    "train_loss = zeros(niter)\n",
    "test_acc = zeros(int(np.ceil(niter / test_interval)))\n",
    "\n",
    "# store output for future comparison\n",
    "output = zeros((niter, 10, 10))  # (niter, num outputs you want, num_labels)"
   ]
  },
  {
   "cell_type": "code",
   "execution_count": 7,
   "metadata": {
    "collapsed": false
   },
   "outputs": [
    {
     "name": "stdout",
     "output_type": "stream",
     "text": [
      "**** Entering Solver Loop ****\n",
      "Iteration 0 train loss.... =  2.30277919769\n",
      "Iteration 0 testing... test accuracy =  0.1082 | train loss =  2.30277919769\n",
      "Iteration 250 train loss.... =  1.58401215076\n",
      "Iteration 500 train loss.... =  1.29760336876\n",
      "Iteration 750 train loss.... =  1.10807931423\n",
      "Iteration 1000 train loss.... =  0.994714081287\n",
      "Iteration 1000 testing... test accuracy =  0.6458 | train loss =  0.994714081287\n",
      "Iteration 1250 train loss.... =  0.857146382332\n",
      "Iteration 1500 train loss.... =  0.865025162697\n",
      "Iteration 1750 train loss.... =  0.808160305023\n",
      "Iteration 2000 train loss.... =  0.916907966137\n",
      "Iteration 2000 testing... test accuracy =  0.6885 | train loss =  0.916907966137\n",
      "Iteration 2250 train loss.... =  0.839551150799\n",
      "Iteration 2500 train loss.... =  0.709072828293\n",
      "Iteration 2750 train loss.... =  0.715501964092\n",
      "Iteration 3000 train loss.... =  0.690894186497\n",
      "Iteration 3000 testing... test accuracy =  0.7082 | train loss =  0.690894186497\n",
      "Iteration 3250 train loss.... =  0.560144364834\n",
      "Iteration 3500 train loss.... =  0.899297118187\n",
      "Iteration 3750 train loss.... =  0.573854804039\n",
      "Iteration 4000 train loss.... =  0.603131949902\n",
      "Iteration 4000 testing... test accuracy =  0.7255 | train loss =  0.603131949902\n",
      "Iteration 4250 train loss.... =  0.57970815897\n",
      "Iteration 4500 train loss.... =  0.469897061586\n",
      "Iteration 4750 train loss.... =  0.523455858231\n",
      "Iteration 5000 train loss.... =  0.532605051994\n",
      "Iteration 5000 testing... test accuracy =  0.7237 | train loss =  0.532605051994\n",
      "Iteration 5250 train loss.... =  0.548057675362\n",
      "Iteration 5500 train loss.... =  0.540928661823\n",
      "Iteration 5750 train loss.... =  0.481209784746\n",
      "Iteration 6000 train loss.... =  0.502826392651\n",
      "Iteration 6000 testing... test accuracy =  0.7284 | train loss =  0.502826392651\n",
      "Iteration 6250 train loss.... =  0.391030222178\n",
      "Iteration 6500 train loss.... =  0.631765842438\n",
      "Iteration 6750 train loss.... =  0.456291079521\n",
      "Iteration 7000 train loss.... =  0.390803277493\n",
      "Iteration 7000 testing... test accuracy =  0.7279 | train loss =  0.390803277493\n",
      "Iteration 7250 train loss.... =  0.458374023438\n",
      "Iteration 7500 train loss.... =  0.36633297801\n",
      "Iteration 7750 train loss.... =  0.471470117569\n",
      "Iteration 8000 train loss.... =  0.367737203836\n",
      "Iteration 8000 testing... test accuracy =  0.7306 | train loss =  0.367737203836\n",
      "Iteration 8250 train loss.... =  0.523411035538\n",
      "Iteration 8500 train loss.... =  0.448449641466\n",
      "Iteration 8750 train loss.... =  0.348943412304\n",
      "Iteration 9000 train loss.... =  0.48325547576\n",
      "Iteration 9000 testing... test accuracy =  0.7355 | train loss =  0.48325547576\n",
      "Iteration 9250 train loss.... =  0.377300411463\n",
      "Iteration 9500 train loss.... =  0.294588238001\n",
      "Iteration 9750 train loss.... =  0.387780845165\n"
     ]
    }
   ],
   "source": [
    "# the main solver loop\n",
    "print \"**** Entering Solver Loop ****\"\n",
    "for it in range(niter):\n",
    "    solver.step(1)  # SGD by Caffe\n",
    "    \n",
    "    # store the train loss\n",
    "    train_loss[it] = solver.net.blobs['loss'].data\n",
    "    \n",
    "    # store the output on the first test batch\n",
    "    # (start the forward pass at conv1 to avoid loading new data)\n",
    "    solver.test_nets[0].forward(start='conv1')\n",
    "    output[it] = solver.test_nets[0].blobs['score'].data[:10]\n",
    "    \n",
    "    # Display results once in a while\n",
    "    if it % disp_interval == 0:\n",
    "        print \"Iteration\", it, \"train loss.... = \", train_loss[it]\n",
    "    \n",
    "    # run a full test every so often\n",
    "    # (Caffe can also do this for us and write to a log, but we show here\n",
    "    #  how to do it directly in Python, where more complicated things are easier.)\n",
    "    if it % test_interval == 0:\n",
    "        correct = 0\n",
    "        for test_it in range(100):\n",
    "            solver.test_nets[0].forward()\n",
    "            correct += sum(solver.test_nets[0].blobs['score'].data.argmax(1)\n",
    "                           == solver.test_nets[0].blobs['label'].data)\n",
    "        test_acc[it // test_interval] = correct/1e4\n",
    "        print 'Iteration', it, 'testing... test accuracy = ', test_acc[it // test_interval], '| train loss = ', train_loss[it]\n"
   ]
  },
  {
   "cell_type": "code",
   "execution_count": 8,
   "metadata": {
    "collapsed": false
   },
   "outputs": [
    {
     "data": {
      "text/plain": [
       "<matplotlib.text.Text at 0x7fbcbe494210>"
      ]
     },
     "execution_count": 8,
     "metadata": {},
     "output_type": "execute_result"
    },
    {
     "data": {
      "image/png": "[encoded data removed]",
      "text/plain": [
       "<matplotlib.figure.Figure at 0x7fbcc01a5f10>"
      ]
     },
     "metadata": {},
     "output_type": "display_data"
    }
   ],
   "source": [
    "_, ax1 = subplots()\n",
    "ax2 = ax1.twinx()\n",
    "ax1.plot(arange(niter), train_loss)\n",
    "ax2.plot(test_interval * arange(len(test_acc)), test_acc, 'r')\n",
    "ax1.set_xlabel('iteration')\n",
    "ax1.set_ylabel('train loss')\n",
    "ax2.set_ylabel('test accuracy')\n",
    "ax2.set_title('Custom Test Accuracy: {:.2f}'.format(test_acc[-1]))"
   ]
  }
 ],
 "metadata": {
  "kernelspec": {
   "display_name": "Python 2",
   "language": "python",
   "name": "python2"
  },
  "language_info": {
   "codemirror_mode": {
    "name": "ipython",
    "version": 2
   },
   "file_extension": ".py",
   "mimetype": "text/x-python",
   "name": "python",
   "nbconvert_exporter": "python",
   "pygments_lexer": "ipython2",
   "version": "2.7.11"
  }
 },
 "nbformat": 4,
 "nbformat_minor": 0
}
